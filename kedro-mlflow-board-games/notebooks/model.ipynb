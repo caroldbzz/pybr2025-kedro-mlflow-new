{
 "cells": [
  {
   "cell_type": "markdown",
   "id": "6db25662",
   "metadata": {
    "vscode": {
     "languageId": "plaintext"
    }
   },
   "source": [
    "# Game Model"
   ]
  },
  {
   "cell_type": "code",
   "execution_count": 2,
   "id": "e684dc13",
   "metadata": {},
   "outputs": [
    {
     "name": "stderr",
     "output_type": "stream",
     "text": [
      "/home/onboarding/miniconda3/envs/kedro_mlflow/lib/python3.13/site-packages/tqdm/auto.py:21: TqdmWarning: IProgress not found. Please update jupyter and ipywidgets. See https://ipywidgets.readthedocs.io/en/stable/user_install.html\n",
      "  from .autonotebook import tqdm as notebook_tqdm\n"
     ]
    },
    {
     "name": "stdout",
     "output_type": "stream",
     "text": [
      "Downloading from https://www.kaggle.com/api/v1/datasets/download/andrewmvd/board-games?dataset_version_number=2...\n"
     ]
    },
    {
     "name": "stderr",
     "output_type": "stream",
     "text": [
      "100%|██████████| 749k/749k [00:00<00:00, 1.22MB/s]"
     ]
    },
    {
     "name": "stdout",
     "output_type": "stream",
     "text": [
      "Extracting files...\n",
      "Path to dataset files: /home/onboarding/.cache/kagglehub/datasets/andrewmvd/board-games/versions/2\n"
     ]
    },
    {
     "name": "stderr",
     "output_type": "stream",
     "text": [
      "\n"
     ]
    }
   ],
   "source": [
    "import kagglehub\n",
    "\n",
    "# Download latest version\n",
    "path = kagglehub.dataset_download(\"andrewmvd/board-games\")\n",
    "\n",
    "print(\"Path to dataset files:\", path)"
   ]
  },
  {
   "cell_type": "code",
   "execution_count": null,
   "id": "03cf9604",
   "metadata": {},
   "outputs": [],
   "source": [
    "import os\n",
    "\n",
    "os.listdir(path)\n",
    "full_path = os.path.join(path, \"bgg_dataset.csv\")"
   ]
  },
  {
   "cell_type": "code",
   "execution_count": null,
   "id": "699b5be0",
   "metadata": {},
   "outputs": [
    {
     "data": {
      "text/html": [
       "<div>\n",
       "<style scoped>\n",
       "    .dataframe tbody tr th:only-of-type {\n",
       "        vertical-align: middle;\n",
       "    }\n",
       "\n",
       "    .dataframe tbody tr th {\n",
       "        vertical-align: top;\n",
       "    }\n",
       "\n",
       "    .dataframe thead th {\n",
       "        text-align: right;\n",
       "    }\n",
       "</style>\n",
       "<table border=\"1\" class=\"dataframe\">\n",
       "  <thead>\n",
       "    <tr style=\"text-align: right;\">\n",
       "      <th></th>\n",
       "      <th>ID</th>\n",
       "      <th>Name</th>\n",
       "      <th>Year Published</th>\n",
       "      <th>Min Players</th>\n",
       "      <th>Max Players</th>\n",
       "      <th>Play Time</th>\n",
       "      <th>Min Age</th>\n",
       "      <th>Users Rated</th>\n",
       "      <th>Rating Average</th>\n",
       "      <th>BGG Rank</th>\n",
       "      <th>Complexity Average</th>\n",
       "      <th>Owned Users</th>\n",
       "      <th>Mechanics</th>\n",
       "      <th>Domains</th>\n",
       "    </tr>\n",
       "  </thead>\n",
       "  <tbody>\n",
       "    <tr>\n",
       "      <th>0</th>\n",
       "      <td>174430.0</td>\n",
       "      <td>Gloomhaven</td>\n",
       "      <td>2017.0</td>\n",
       "      <td>1</td>\n",
       "      <td>4</td>\n",
       "      <td>120</td>\n",
       "      <td>14</td>\n",
       "      <td>42055</td>\n",
       "      <td>8,79</td>\n",
       "      <td>1</td>\n",
       "      <td>3,86</td>\n",
       "      <td>68323.0</td>\n",
       "      <td>Action Queue, Action Retrieval, Campaign / Bat...</td>\n",
       "      <td>Strategy Games, Thematic Games</td>\n",
       "    </tr>\n",
       "    <tr>\n",
       "      <th>1</th>\n",
       "      <td>161936.0</td>\n",
       "      <td>Pandemic Legacy: Season 1</td>\n",
       "      <td>2015.0</td>\n",
       "      <td>2</td>\n",
       "      <td>4</td>\n",
       "      <td>60</td>\n",
       "      <td>13</td>\n",
       "      <td>41643</td>\n",
       "      <td>8,61</td>\n",
       "      <td>2</td>\n",
       "      <td>2,84</td>\n",
       "      <td>65294.0</td>\n",
       "      <td>Action Points, Cooperative Game, Hand Manageme...</td>\n",
       "      <td>Strategy Games, Thematic Games</td>\n",
       "    </tr>\n",
       "    <tr>\n",
       "      <th>2</th>\n",
       "      <td>224517.0</td>\n",
       "      <td>Brass: Birmingham</td>\n",
       "      <td>2018.0</td>\n",
       "      <td>2</td>\n",
       "      <td>4</td>\n",
       "      <td>120</td>\n",
       "      <td>14</td>\n",
       "      <td>19217</td>\n",
       "      <td>8,66</td>\n",
       "      <td>3</td>\n",
       "      <td>3,91</td>\n",
       "      <td>28785.0</td>\n",
       "      <td>Hand Management, Income, Loans, Market, Networ...</td>\n",
       "      <td>Strategy Games</td>\n",
       "    </tr>\n",
       "    <tr>\n",
       "      <th>3</th>\n",
       "      <td>167791.0</td>\n",
       "      <td>Terraforming Mars</td>\n",
       "      <td>2016.0</td>\n",
       "      <td>1</td>\n",
       "      <td>5</td>\n",
       "      <td>120</td>\n",
       "      <td>12</td>\n",
       "      <td>64864</td>\n",
       "      <td>8,43</td>\n",
       "      <td>4</td>\n",
       "      <td>3,24</td>\n",
       "      <td>87099.0</td>\n",
       "      <td>Card Drafting, Drafting, End Game Bonuses, Han...</td>\n",
       "      <td>Strategy Games</td>\n",
       "    </tr>\n",
       "    <tr>\n",
       "      <th>4</th>\n",
       "      <td>233078.0</td>\n",
       "      <td>Twilight Imperium: Fourth Edition</td>\n",
       "      <td>2017.0</td>\n",
       "      <td>3</td>\n",
       "      <td>6</td>\n",
       "      <td>480</td>\n",
       "      <td>14</td>\n",
       "      <td>13468</td>\n",
       "      <td>8,70</td>\n",
       "      <td>5</td>\n",
       "      <td>4,22</td>\n",
       "      <td>16831.0</td>\n",
       "      <td>Action Drafting, Area Majority / Influence, Ar...</td>\n",
       "      <td>Strategy Games, Thematic Games</td>\n",
       "    </tr>\n",
       "  </tbody>\n",
       "</table>\n",
       "</div>"
      ],
      "text/plain": [
       "         ID                               Name  Year Published  Min Players  \\\n",
       "0  174430.0                         Gloomhaven          2017.0            1   \n",
       "1  161936.0          Pandemic Legacy: Season 1          2015.0            2   \n",
       "2  224517.0                  Brass: Birmingham          2018.0            2   \n",
       "3  167791.0                  Terraforming Mars          2016.0            1   \n",
       "4  233078.0  Twilight Imperium: Fourth Edition          2017.0            3   \n",
       "\n",
       "   Max Players  Play Time  Min Age  Users Rated Rating Average  BGG Rank  \\\n",
       "0            4        120       14        42055           8,79         1   \n",
       "1            4         60       13        41643           8,61         2   \n",
       "2            4        120       14        19217           8,66         3   \n",
       "3            5        120       12        64864           8,43         4   \n",
       "4            6        480       14        13468           8,70         5   \n",
       "\n",
       "  Complexity Average  Owned Users  \\\n",
       "0               3,86      68323.0   \n",
       "1               2,84      65294.0   \n",
       "2               3,91      28785.0   \n",
       "3               3,24      87099.0   \n",
       "4               4,22      16831.0   \n",
       "\n",
       "                                           Mechanics  \\\n",
       "0  Action Queue, Action Retrieval, Campaign / Bat...   \n",
       "1  Action Points, Cooperative Game, Hand Manageme...   \n",
       "2  Hand Management, Income, Loans, Market, Networ...   \n",
       "3  Card Drafting, Drafting, End Game Bonuses, Han...   \n",
       "4  Action Drafting, Area Majority / Influence, Ar...   \n",
       "\n",
       "                          Domains  \n",
       "0  Strategy Games, Thematic Games  \n",
       "1  Strategy Games, Thematic Games  \n",
       "2                  Strategy Games  \n",
       "3                  Strategy Games  \n",
       "4  Strategy Games, Thematic Games  "
      ]
     },
     "execution_count": 15,
     "metadata": {},
     "output_type": "execute_result"
    }
   ],
   "source": [
    "import pandas as pd\n",
    "\n",
    "df = pd.read_csv(full_path, sep=';')\n",
    "\n",
    "# Mostra as 5 primeiras linhas para verificar\n",
    "df.head()"
   ]
  }
 ],
 "metadata": {
  "kernelspec": {
   "display_name": "kedro_mlflow",
   "language": "python",
   "name": "python3"
  },
  "language_info": {
   "codemirror_mode": {
    "name": "ipython",
    "version": 3
   },
   "file_extension": ".py",
   "mimetype": "text/x-python",
   "name": "python",
   "nbconvert_exporter": "python",
   "pygments_lexer": "ipython3",
   "version": "3.13.7"
  }
 },
 "nbformat": 4,
 "nbformat_minor": 5
}
